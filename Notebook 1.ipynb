{
    "cells": [
        {
            "cell_type": "code",
            "execution_count": 1,
            "metadata": {},
            "outputs": [],
            "source": "# Requests allows us to make HTTP requests which we will use to get data from an API\nimport requests\n# Pandas is a software library written for the Python programming language for data manipulation and analysis.\nimport pandas as pd\n# NumPy is a library for the Python programming language, adding support for large, multi-dimensional arrays and matrices, along with a large collection of high-level mathematical functions to operate on these arrays\nimport numpy as np\n# Datetime is a library that allows us to represent dates\nimport datetime"
        },
        {
            "cell_type": "code",
            "execution_count": 2,
            "metadata": {},
            "outputs": [],
            "source": "# Takes the dataset and uses the rocket column to call the API and append the data to the list\ndef getBoosterVersion(data):\n    for x in data['rocket']:\n       if x:\n        response = requests.get(\"https://api.spacexdata.com/v4/rockets/\"+str(x)).json()\n        BoosterVersion.append(response['name'])"
        },
        {
            "cell_type": "code",
            "execution_count": 3,
            "metadata": {},
            "outputs": [],
            "source": "# Takes the dataset and uses the payloads column to call the API and append the data to the lists\ndef getPayloadData(data):\n    for load in data['payloads']:\n        response = requests.get(\"https://api.spacexdata.com/v4/payloads/\"+load).json()\n        PayloadMass.append(response['mass_kg'])\n        Orbit.append(response['orbit'])"
        },
        {
            "cell_type": "code",
            "execution_count": 4,
            "metadata": {},
            "outputs": [],
            "source": "# Takes the dataset and uses the cores column to call the API and append the data to the lists\ndef getCoreData(data):\n    for core in data['cores']:\n            if core['core'] != None:\n                response = requests.get(\"https://api.spacexdata.com/v4/cores/\"+core['core']).json()\n                Block.append(response['block'])\n                ReusedCount.append(response['reuse_count'])\n                Serial.append(response['serial'])\n            else:\n                Block.append(None)\n                ReusedCount.append(None)\n                Serial.append(None)\n            Outcome.append(str(core['landing_success'])+' '+str(core['landing_type']))\n            Flights.append(core['flight'])\n            GridFins.append(core['gridfins'])\n            Reused.append(core['reused'])\n            Legs.append(core['legs'])\n            LandingPad.append(core['landpad']) "
        },
        {
            "cell_type": "code",
            "execution_count": 5,
            "metadata": {},
            "outputs": [
                {
                    "name": "stdout",
                    "output_type": "stream",
                    "text": "       static_fire_date_utc  static_fire_date_unix    tbd    net  window  \\\n0  2006-03-17T00:00:00.000Z           1.142554e+09  False  False     0.0   \n1                      None                    NaN  False  False     0.0   \n2                      None                    NaN  False  False     0.0   \n3  2008-09-20T00:00:00.000Z           1.221869e+09  False  False     0.0   \n4                      None                    NaN  False  False     0.0   \n\n                     rocket  success  \\\n0  5e9d0d95eda69955f709d1eb    False   \n1  5e9d0d95eda69955f709d1eb    False   \n2  5e9d0d95eda69955f709d1eb    False   \n3  5e9d0d95eda69955f709d1eb     True   \n4  5e9d0d95eda69955f709d1eb     True   \n\n                                             details crew ships  ...  \\\n0   Engine failure at 33 seconds and loss of vehicle   []    []  ...   \n1  Successful first stage burn and transition to ...   []    []  ...   \n2  Residual stage 1 thrust led to collision betwe...   []    []  ...   \n3  Ratsat was carried to orbit on the first succe...   []    []  ...   \n4                                               None   []    []  ...   \n\n  links.reddit.media links.reddit.recovery links.flickr.small  \\\n0               None                  None                 []   \n1               None                  None                 []   \n2               None                  None                 []   \n3               None                  None                 []   \n4               None                  None                 []   \n\n   links.flickr.original                                     links.presskit  \\\n0                     []                                               None   \n1                     []                                               None   \n2                     []                                               None   \n3                     []                                               None   \n4                     []  http://www.spacex.com/press/2012/12/19/spacexs...   \n\n                                 links.webcast links.youtube_id  \\\n0  https://www.youtube.com/watch?v=0a_00nJ_Y88      0a_00nJ_Y88   \n1  https://www.youtube.com/watch?v=Lk4zQ2wP-Nc      Lk4zQ2wP-Nc   \n2  https://www.youtube.com/watch?v=v0w9p3U8860      v0w9p3U8860   \n3  https://www.youtube.com/watch?v=dLQ2tZEH6G0      dLQ2tZEH6G0   \n4  https://www.youtube.com/watch?v=yTaIDooc8Og      yTaIDooc8Og   \n\n                                       links.article  \\\n0  https://www.space.com/2196-spacex-inaugural-fa...   \n1  https://www.space.com/3590-spacex-falcon-1-roc...   \n2  http://www.spacex.com/news/2013/02/11/falcon-1...   \n3               https://en.wikipedia.org/wiki/Ratsat   \n4  http://www.spacex.com/news/2013/02/12/falcon-1...   \n\n                                     links.wikipedia fairings  \n0              https://en.wikipedia.org/wiki/DemoSat      NaN  \n1              https://en.wikipedia.org/wiki/DemoSat      NaN  \n2  https://en.wikipedia.org/wiki/Trailblazer_(sat...      NaN  \n3               https://en.wikipedia.org/wiki/Ratsat      NaN  \n4             https://en.wikipedia.org/wiki/RazakSAT      NaN  \n\n[5 rows x 42 columns]\n"
                }
            ],
            "source": "#We will use an static URL instead\nstatic_json_url='https://cf-courses-data.s3.us.cloud-object-storage.appdomain.cloud/IBM-DS0321EN-SkillsNetwork/datasets/API_call_spacex_api.json'\nresponse = requests.get(static_json_url)\n#We check the response status \nresponse.status_code #code 200 ok\n\n# Use json_normalize meethod to convert the json result into a dataframe\ndata = pd.json_normalize(response.json())  # convert to flat table\n\nprint(data.head())"
        },
        {
            "cell_type": "code",
            "execution_count": 6,
            "metadata": {},
            "outputs": [],
            "source": "# Lets take a subset of our dataframe keeping only the features we want and the flight number, and date_utc.\ndata = data[['rocket', 'payloads', 'launchpad', 'cores', 'flight_number', 'date_utc']]\n\n# We will remove rows with multiple cores because those are falcon rockets with 2 extra rocket boosters and rows that have multiple payloads in a single rocket.\n\ndata = data[data['cores'].map(len)==1] \n# data['cores'] selects the cores column of the DataFrame data.\n#.map(len) applies the Python built-in function len() to each element of the cores column, which converts each element from a list to an integer representing the length of the list.\n# ==1 checks if the length of each list in the cores column is equal to 1. This returns a boolean mask with True values for the rows where the condition is satisfied and False values for the rows where the condition is not satisfied.\n# data[data['cores'].map(len)==1] uses this boolean mask to filter the rows of the DataFrame data to include only the rows where the length of the cores column is equal to 1.\n\n# same with payloads column\ndata = data[data['payloads'].map(len)==1]\n\n# Since payloads and cores are lists of size 1 we will also extract the single value in the list and replace the feature.\n# he line data['cores'] = data['cores'].map(lambda x : x[0]) does not convert a list into a string, it actually converts the values in the 'cores' column, which are lists of size 1, into the single value in the list.\n\ndata['cores'] = data['cores'].map(lambda x : x[0])\ndata['payloads'] = data['payloads'].map(lambda x : x[0])\n\n# We also want to convert the date_utc to a datetime datatype and then extracting the date leaving the time\n#This line is converting the 'date_utc' column of the dataframe to a datetime datatype using pandas' to_datetime() function. It then extracts only the date portion of the datetime using the .dt.date attribute, and assigns the result to a new column called 'date' in the dataframe. So essentially, this line is creating a new column called 'date' which contains only the date of each launch, based on the 'date_utc' column.\ndata['date'] = pd.to_datetime(data['date_utc']).dt.date\n\n# Using the date we will restrict the dates of the launches\ndata = data[data['date'] <= datetime.date(2020, 11, 13)]"
        },
        {
            "cell_type": "code",
            "execution_count": 7,
            "metadata": {},
            "outputs": [],
            "source": "#Global variables \nBoosterVersion = []\nPayloadMass = []\nOrbit = []\nLaunchSite = []\nOutcome = []\nFlights = []\nGridFins = []\nReused = []\nLegs = []\nLandingPad = []\nBlock = []\nReusedCount = []\nSerial = []\nLongitude = []\nLatitude = []"
        },
        {
            "cell_type": "code",
            "execution_count": 8,
            "metadata": {},
            "outputs": [
                {
                    "data": {
                        "text/plain": "[]"
                    },
                    "execution_count": 8,
                    "metadata": {},
                    "output_type": "execute_result"
                }
            ],
            "source": "BoosterVersion"
        },
        {
            "cell_type": "code",
            "execution_count": 9,
            "metadata": {},
            "outputs": [],
            "source": "getBoosterVersion(data)\n# Call getBoosterVersion\n\n# Call getPayloadData\ngetPayloadData(data)\n\n# Call getCoreData\ngetCoreData(data)"
        },
        {
            "cell_type": "code",
            "execution_count": 10,
            "metadata": {},
            "outputs": [],
            "source": "#Finally lets construct our dataset using the data we have obtained. We we combine the columns into a dictionary.\n\nlaunch_dict = {'FlightNumber': list(data['flight_number']),\n'Date': list(data['date']),\n'PayloadMass':PayloadMass,\n'BoosterVersion':BoosterVersion}"
        },
        {
            "cell_type": "code",
            "execution_count": 11,
            "metadata": {},
            "outputs": [
                {
                    "name": "stdout",
                    "output_type": "stream",
                    "text": "{'FlightNumber': [1, 2, 4, 5, 6, 8, 10, 11, 12, 13, 14, 15, 16, 17, 18, 19, 20, 22, 23, 24, 25, 26, 27, 28, 29, 30, 32, 33, 34, 35, 36, 37, 38, 39, 40, 41, 42, 43, 44, 45, 46, 47, 48, 49, 50, 51, 52, 53, 54, 57, 58, 59, 60, 61, 63, 64, 65, 66, 67, 68, 69, 70, 71, 72, 73, 74, 76, 78, 79, 80, 82, 83, 84, 85, 86, 87, 88, 89, 90, 91, 92, 93, 94, 95, 96, 97, 98, 100, 101, 102, 103, 104, 105, 106], 'Date': [datetime.date(2006, 3, 24), datetime.date(2007, 3, 21), datetime.date(2008, 9, 28), datetime.date(2009, 7, 13), datetime.date(2010, 6, 4), datetime.date(2012, 5, 22), datetime.date(2013, 3, 1), datetime.date(2013, 9, 29), datetime.date(2013, 12, 3), datetime.date(2014, 1, 6), datetime.date(2014, 4, 18), datetime.date(2014, 7, 14), datetime.date(2014, 8, 5), datetime.date(2014, 9, 7), datetime.date(2014, 9, 21), datetime.date(2015, 1, 10), datetime.date(2015, 2, 11), datetime.date(2015, 4, 14), datetime.date(2015, 4, 27), datetime.date(2015, 6, 28), datetime.date(2015, 12, 22), datetime.date(2016, 1, 17), datetime.date(2016, 3, 4), datetime.date(2016, 4, 8), datetime.date(2016, 5, 6), datetime.date(2016, 5, 27), datetime.date(2016, 7, 18), datetime.date(2016, 8, 14), datetime.date(2016, 9, 1), datetime.date(2017, 1, 14), datetime.date(2017, 2, 19), datetime.date(2017, 3, 16), datetime.date(2017, 3, 30), datetime.date(2017, 5, 1), datetime.date(2017, 5, 15), datetime.date(2017, 6, 3), datetime.date(2017, 6, 23), datetime.date(2017, 6, 25), datetime.date(2017, 7, 5), datetime.date(2017, 8, 14), datetime.date(2017, 8, 24), datetime.date(2017, 9, 7), datetime.date(2017, 10, 9), datetime.date(2017, 10, 11), datetime.date(2017, 10, 30), datetime.date(2017, 12, 15), datetime.date(2017, 12, 23), datetime.date(2018, 1, 8), datetime.date(2018, 1, 31), datetime.date(2018, 3, 6), datetime.date(2018, 3, 30), datetime.date(2018, 4, 2), datetime.date(2018, 4, 18), datetime.date(2018, 5, 11), datetime.date(2018, 6, 4), datetime.date(2018, 6, 29), datetime.date(2018, 7, 22), datetime.date(2018, 7, 25), datetime.date(2018, 8, 7), datetime.date(2018, 9, 10), datetime.date(2018, 10, 8), datetime.date(2018, 11, 15), datetime.date(2018, 12, 3), datetime.date(2018, 12, 5), datetime.date(2018, 12, 23), datetime.date(2019, 1, 11), datetime.date(2019, 3, 2), datetime.date(2019, 5, 4), datetime.date(2019, 5, 24), datetime.date(2019, 6, 12), datetime.date(2019, 7, 25), datetime.date(2019, 8, 6), datetime.date(2019, 11, 11), datetime.date(2019, 12, 5), datetime.date(2019, 12, 17), datetime.date(2020, 1, 7), datetime.date(2020, 1, 19), datetime.date(2020, 1, 29), datetime.date(2020, 2, 17), datetime.date(2020, 3, 7), datetime.date(2020, 3, 18), datetime.date(2020, 4, 22), datetime.date(2020, 5, 30), datetime.date(2020, 6, 4), datetime.date(2020, 6, 13), datetime.date(2020, 6, 30), datetime.date(2020, 7, 20), datetime.date(2020, 8, 18), datetime.date(2020, 8, 30), datetime.date(2020, 9, 3), datetime.date(2020, 10, 6), datetime.date(2020, 10, 18), datetime.date(2020, 10, 24), datetime.date(2020, 11, 5)], 'PayloadMass': [20, None, 165, 200, None, 525, 677, 500, 3170, 3325, 2296, 1316, 4535, 4428, 2216, 2395, 570, 1898, 4707, 2477, 2034, 553, 5271, 3136, 4696, 3100, 2257, 4600, 5500, 9600, 2490, 5600, 5300, None, 6070, 2708, 3669, 9600, 6761, 2910, 475, 4990, 9600, 5200, 3700, 2205, 9600, None, 4230, 6092, 9600, 2760, 350, 3750, 5383.85, 2410, 7076, 9600, 5800, 7060, 2800, 3000, 4000, 2573, 4400, 9600, 12259, 2482, 13200, 1425, 2227.7, 6500, 15600, 5000, 6800, 15600, None, 15600, 15600, 1977, 15600, 15600, 9525, 15600, 15600, 3880, None, 15600, 1600, 15600, 15600, 15600, 15600, 3681], 'BoosterVersion': ['Falcon 1', 'Falcon 1', 'Falcon 1', 'Falcon 1', 'Falcon 9', 'Falcon 9', 'Falcon 9', 'Falcon 9', 'Falcon 9', 'Falcon 9', 'Falcon 9', 'Falcon 9', 'Falcon 9', 'Falcon 9', 'Falcon 9', 'Falcon 9', 'Falcon 9', 'Falcon 9', 'Falcon 9', 'Falcon 9', 'Falcon 9', 'Falcon 9', 'Falcon 9', 'Falcon 9', 'Falcon 9', 'Falcon 9', 'Falcon 9', 'Falcon 9', 'Falcon 9', 'Falcon 9', 'Falcon 9', 'Falcon 9', 'Falcon 9', 'Falcon 9', 'Falcon 9', 'Falcon 9', 'Falcon 9', 'Falcon 9', 'Falcon 9', 'Falcon 9', 'Falcon 9', 'Falcon 9', 'Falcon 9', 'Falcon 9', 'Falcon 9', 'Falcon 9', 'Falcon 9', 'Falcon 9', 'Falcon 9', 'Falcon 9', 'Falcon 9', 'Falcon 9', 'Falcon 9', 'Falcon 9', 'Falcon 9', 'Falcon 9', 'Falcon 9', 'Falcon 9', 'Falcon 9', 'Falcon 9', 'Falcon 9', 'Falcon 9', 'Falcon 9', 'Falcon 9', 'Falcon 9', 'Falcon 9', 'Falcon 9', 'Falcon 9', 'Falcon 9', 'Falcon 9', 'Falcon 9', 'Falcon 9', 'Falcon 9', 'Falcon 9', 'Falcon 9', 'Falcon 9', 'Falcon 9', 'Falcon 9', 'Falcon 9', 'Falcon 9', 'Falcon 9', 'Falcon 9', 'Falcon 9', 'Falcon 9', 'Falcon 9', 'Falcon 9', 'Falcon 9', 'Falcon 9', 'Falcon 9', 'Falcon 9', 'Falcon 9', 'Falcon 9', 'Falcon 9', 'Falcon 9']}\n"
                }
            ],
            "source": "print (launch_dict)"
        },
        {
            "cell_type": "code",
            "execution_count": 12,
            "metadata": {
                "scrolled": true
            },
            "outputs": [
                {
                    "name": "stdout",
                    "output_type": "stream",
                    "text": "   FlightNumber        Date  PayloadMass BoosterVersion\n0             1  2006-03-24         20.0       Falcon 1\n1             2  2007-03-21          NaN       Falcon 1\n2             4  2008-09-28        165.0       Falcon 1\n3             5  2009-07-13        200.0       Falcon 1\n4             6  2010-06-04          NaN       Falcon 9\n"
                }
            ],
            "source": "data_falcon9 = pd.DataFrame(launch_dict)\nprint(data_falcon9.head())"
        },
        {
            "cell_type": "code",
            "execution_count": 13,
            "metadata": {},
            "outputs": [
                {
                    "name": "stdout",
                    "output_type": "stream",
                    "text": "   FlightNumber        Date  PayloadMass BoosterVersion\n4             6  2010-06-04          NaN       Falcon 9\n5             8  2012-05-22        525.0       Falcon 9\n6            10  2013-03-01        677.0       Falcon 9\n7            11  2013-09-29        500.0       Falcon 9\n8            12  2013-12-03       3170.0       Falcon 9\n"
                }
            ],
            "source": "newdf = data_falcon9[(data_falcon9.BoosterVersion == \"Falcon 9\")]\nprint(newdf.head())"
        },
        {
            "cell_type": "code",
            "execution_count": 14,
            "metadata": {},
            "outputs": [
                {
                    "name": "stdout",
                    "output_type": "stream",
                    "text": "   FlightNumber        Date  PayloadMass BoosterVersion\n4             1  2010-06-04          NaN       Falcon 9\n5             2  2012-05-22        525.0       Falcon 9\n6             3  2013-03-01        677.0       Falcon 9\n7             4  2013-09-29        500.0       Falcon 9\n8             5  2013-12-03       3170.0       Falcon 9\n"
                }
            ],
            "source": "newdf2 = newdf.copy() # create a copy of the original DataFrame\nnewdf2.loc[:,'FlightNumber'] = list(range(1, newdf.shape[0]+1)) # modify the view of the copy\nprint(newdf2.head())"
        },
        {
            "cell_type": "code",
            "execution_count": 15,
            "metadata": {},
            "outputs": [
                {
                    "name": "stdout",
                    "output_type": "stream",
                    "text": "DataFrame with null values in column A replaced with 0:\n    FlightNumber        Date  PayloadMass BoosterVersion\n4             1  2010-06-04          0.0       Falcon 9\n5             2  2012-05-22        525.0       Falcon 9\n6             3  2013-03-01        677.0       Falcon 9\n7             4  2013-09-29        500.0       Falcon 9\n8             5  2013-12-03       3170.0       Falcon 9\n"
                }
            ],
            "source": "# replace null values in column 'PayloadMass' with 0\nnewdf2['PayloadMass'].fillna(0, inplace=True)\nprint('DataFrame with null values in column A replaced with 0:\\n', newdf2.head())"
        },
        {
            "cell_type": "code",
            "execution_count": 16,
            "metadata": {},
            "outputs": [
                {
                    "name": "stdout",
                    "output_type": "stream",
                    "text": "Average of column PayloadMass: 5783.35\n"
                }
            ],
            "source": "meanPayloadMass = newdf2['PayloadMass'].mean()\nprint('Average of column PayloadMass:', round(meanPayloadMass, 2))"
        }
    ],
    "metadata": {
        "kernelspec": {
            "display_name": "Python 3.10",
            "language": "python",
            "name": "python3"
        },
        "language_info": {
            "codemirror_mode": {
                "name": "ipython",
                "version": 3
            },
            "file_extension": ".py",
            "mimetype": "text/x-python",
            "name": "python",
            "nbconvert_exporter": "python",
            "pygments_lexer": "ipython3",
            "version": "3.10.9"
        }
    },
    "nbformat": 4,
    "nbformat_minor": 1
}