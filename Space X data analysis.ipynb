{
    "cells": [
        {
            "cell_type": "code",
            "execution_count": 1,
            "metadata": {},
            "outputs": [],
            "source": "# Requests allows us to make HTTP requests which we will use to get data from an API\nimport requests\n# Pandas is a software library written for the Python programming language for data manipulation and analysis.\nimport pandas as pd\n# NumPy is a library for the Python programming language, adding support for large, multi-dimensional arrays and matrices, along with a large collection of high-level mathematical functions to operate on these arrays\nimport numpy as np\n# Datetime is a library that allows us to represent dates\nimport datetime"
        },
        {
            "cell_type": "code",
            "execution_count": 2,
            "metadata": {},
            "outputs": [],
            "source": "# Takes the dataset and uses the rocket column to call the API and append the data to the list\ndef getBoosterVersion(data):\n    for x in data['rocket']:\n       if x:\n        response = requests.get(\"https://api.spacexdata.com/v4/rockets/\"+str(x)).json()\n        BoosterVersion.append(response['name'])"
        },
        {
            "cell_type": "code",
            "execution_count": 3,
            "metadata": {},
            "outputs": [],
            "source": "# Takes the dataset and uses the payloads column to call the API and append the data to the lists\ndef getPayloadData(data):\n    for load in data['payloads']:\n        response = requests.get(\"https://api.spacexdata.com/v4/payloads/\"+load).json()\n        PayloadMass.append(response['mass_kg'])\n        Orbit.append(response['orbit'])"
        },
        {
            "cell_type": "code",
            "execution_count": 4,
            "metadata": {},
            "outputs": [],
            "source": "# Takes the dataset and uses the cores column to call the API and append the data to the lists\ndef getCoreData(data):\n    for core in data['cores']:\n            if core['core'] != None:\n                response = requests.get(\"https://api.spacexdata.com/v4/cores/\"+core['core']).json()\n                Block.append(response['block'])\n                ReusedCount.append(response['reuse_count'])\n                Serial.append(response['serial'])\n            else:\n                Block.append(None)\n                ReusedCount.append(None)\n                Serial.append(None)\n            Outcome.append(str(core['landing_success'])+' '+str(core['landing_type']))\n            Flights.append(core['flight'])\n            GridFins.append(core['gridfins'])\n            Reused.append(core['reused'])\n            Legs.append(core['legs'])\n            LandingPad.append(core['landpad']) "
        },
        {
            "cell_type": "code",
            "execution_count": 5,
            "metadata": {},
            "outputs": [],
            "source": "#We will use an static URL instead\nstatic_json_url='https://cf-courses-data.s3.us.cloud-object-storage.appdomain.cloud/IBM-DS0321EN-SkillsNetwork/datasets/API_call_spacex_api.json'\nresponse = requests.get(static_json_url)\n#We check the response status \nresponse.status_code #code 200 ok\n\n# Use json_normalize meethod to convert the json result into a dataframe\ndata = pd.json_normalize(response.json())  # convert to flat table\n"
        },
        {
            "cell_type": "code",
            "execution_count": 6,
            "metadata": {},
            "outputs": [],
            "source": "# Lets take a subset of our dataframe keeping only the features we want and the flight number, and date_utc.\ndata = data[['rocket', 'payloads', 'launchpad', 'cores', 'flight_number', 'date_utc']]\n\n# We will remove rows with multiple cores because those are falcon rockets with 2 extra rocket boosters and rows that have multiple payloads in a single rocket.\n\ndata = data[data['cores'].map(len)==1] \n# data['cores'] selects the cores column of the DataFrame data.\n#.map(len) applies the Python built-in function len() to each element of the cores column, which converts each element from a list to an integer representing the length of the list.\n# ==1 checks if the length of each list in the cores column is equal to 1. This returns a boolean mask with True values for the rows where the condition is satisfied and False values for the rows where the condition is not satisfied.\n# data[data['cores'].map(len)==1] uses this boolean mask to filter the rows of the DataFrame data to include only the rows where the length of the cores column is equal to 1.\n\n# same with payloads column\ndata = data[data['payloads'].map(len)==1]\n\n# Since payloads and cores are lists of size 1 we will also extract the single value in the list and replace the feature.\n# he line data['cores'] = data['cores'].map(lambda x : x[0]) does not convert a list into a string, it actually converts the values in the 'cores' column, which are lists of size 1, into the single value in the list.\n\ndata['cores'] = data['cores'].map(lambda x : x[0])\ndata['payloads'] = data['payloads'].map(lambda x : x[0])\n\n# We also want to convert the date_utc to a datetime datatype and then extracting the date leaving the time\n#This line is converting the 'date_utc' column of the dataframe to a datetime datatype using pandas' to_datetime() function. It then extracts only the date portion of the datetime using the .dt.date attribute, and assigns the result to a new column called 'date' in the dataframe. So essentially, this line is creating a new column called 'date' which contains only the date of each launch, based on the 'date_utc' column.\ndata['date'] = pd.to_datetime(data['date_utc']).dt.date\n\n# Using the date we will restrict the dates of the launches\ndata = data[data['date'] <= datetime.date(2020, 11, 13)]"
        },
        {
            "cell_type": "code",
            "execution_count": 7,
            "metadata": {},
            "outputs": [],
            "source": "#Global variables \nBoosterVersion = []\nPayloadMass = []\nOrbit = []\nLaunchSite = []\nOutcome = []\nFlights = []\nGridFins = []\nReused = []\nLegs = []\nLandingPad = []\nBlock = []\nReusedCount = []\nSerial = []\nLongitude = []\nLatitude = []"
        },
        {
            "cell_type": "code",
            "execution_count": 8,
            "metadata": {},
            "outputs": [],
            "source": "getBoosterVersion(data)\n# Call getBoosterVersion\n\n# Call getPayloadData\ngetPayloadData(data)\n\n# Call getCoreData\ngetCoreData(data)"
        },
        {
            "cell_type": "code",
            "execution_count": 9,
            "metadata": {},
            "outputs": [],
            "source": "#Finally lets construct our dataset using the data we have obtained. We we combine the columns into a dictionary.\n\nlaunch_dict = {'FlightNumber': list(data['flight_number']),\n'Date': list(data['date']),\n'PayloadMass':PayloadMass,\n'BoosterVersion':BoosterVersion}"
        },
        {
            "cell_type": "code",
            "execution_count": 10,
            "metadata": {
                "scrolled": true
            },
            "outputs": [
                {
                    "name": "stdout",
                    "output_type": "stream",
                    "text": "   FlightNumber        Date  PayloadMass BoosterVersion\n0             1  2006-03-24         20.0       Falcon 1\n1             2  2007-03-21          NaN       Falcon 1\n2             4  2008-09-28        165.0       Falcon 1\n3             5  2009-07-13        200.0       Falcon 1\n4             6  2010-06-04          NaN       Falcon 9\n"
                }
            ],
            "source": "# Convert dictionary to dataframe\ndata_falcon9 = pd.DataFrame(launch_dict)\nprint(data_falcon9.head())"
        },
        {
            "cell_type": "code",
            "execution_count": 11,
            "metadata": {},
            "outputs": [
                {
                    "name": "stdout",
                    "output_type": "stream",
                    "text": "   FlightNumber        Date  PayloadMass BoosterVersion\n4             6  2010-06-04          NaN       Falcon 9\n5             8  2012-05-22        525.0       Falcon 9\n6            10  2013-03-01        677.0       Falcon 9\n7            11  2013-09-29        500.0       Falcon 9\n8            12  2013-12-03       3170.0       Falcon 9\n"
                }
            ],
            "source": "# New dataframe with only values where BoosterVersion is Falcon 9\nnewdf = data_falcon9[(data_falcon9.BoosterVersion == \"Falcon 9\")]\nprint(newdf.head())"
        },
        {
            "cell_type": "code",
            "execution_count": 12,
            "metadata": {},
            "outputs": [
                {
                    "name": "stdout",
                    "output_type": "stream",
                    "text": "   FlightNumber        Date  PayloadMass BoosterVersion\n4             1  2010-06-04          NaN       Falcon 9\n5             2  2012-05-22        525.0       Falcon 9\n6             3  2013-03-01        677.0       Falcon 9\n7             4  2013-09-29        500.0       Falcon 9\n8             5  2013-12-03       3170.0       Falcon 9\n"
                }
            ],
            "source": "# create a copy of the original DataFrame\nnewdf2 = newdf.copy() \n# modify the view of the copy so the flightnumber is ordered.\nnewdf2.loc[:,'FlightNumber'] = list(range(1, newdf.shape[0]+1)) \nprint(newdf2.head())"
        },
        {
            "cell_type": "code",
            "execution_count": 13,
            "metadata": {},
            "outputs": [
                {
                    "name": "stdout",
                    "output_type": "stream",
                    "text": "DataFrame with null values in column A replaced with 0:\n    FlightNumber        Date  PayloadMass BoosterVersion\n4             1  2010-06-04          0.0       Falcon 9\n5             2  2012-05-22        525.0       Falcon 9\n6             3  2013-03-01        677.0       Falcon 9\n7             4  2013-09-29        500.0       Falcon 9\n8             5  2013-12-03       3170.0       Falcon 9\n"
                }
            ],
            "source": "# replace null values in column 'PayloadMass' with 0\nnewdf2['PayloadMass'].fillna(0, inplace=True)\nprint('DataFrame with null values in column A replaced with 0:\\n', newdf2.head())"
        },
        {
            "cell_type": "code",
            "execution_count": 14,
            "metadata": {},
            "outputs": [
                {
                    "name": "stdout",
                    "output_type": "stream",
                    "text": "Average of column PayloadMass: 5783.35\n"
                }
            ],
            "source": "#Calculate mean of payload column.\nmeanPayloadMass = newdf2['PayloadMass'].mean()\nprint('Average of column PayloadMass:', round(meanPayloadMass, 2))"
        }
    ],
    "metadata": {
        "kernelspec": {
            "display_name": "Python 3.10",
            "language": "python",
            "name": "python3"
        },
        "language_info": {
            "codemirror_mode": {
                "name": "ipython",
                "version": 3
            },
            "file_extension": ".py",
            "mimetype": "text/x-python",
            "name": "python",
            "nbconvert_exporter": "python",
            "pygments_lexer": "ipython3",
            "version": "3.10.9"
        }
    },
    "nbformat": 4,
    "nbformat_minor": 1
}
